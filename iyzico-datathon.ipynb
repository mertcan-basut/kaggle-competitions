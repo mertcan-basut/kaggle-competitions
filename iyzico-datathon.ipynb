{
 "cells": [
  {
   "cell_type": "code",
   "execution_count": 1,
   "id": "0dc2744a",
   "metadata": {
    "_cell_guid": "b1076dfc-b9ad-4769-8c92-a6c4dae69d19",
    "_uuid": "8f2839f25d086af736a60e9eeb907d3b93b6e0e5",
    "execution": {
     "iopub.execute_input": "2024-01-27T07:43:06.075182Z",
     "iopub.status.busy": "2024-01-27T07:43:06.074634Z",
     "iopub.status.idle": "2024-01-27T07:43:06.522580Z",
     "shell.execute_reply": "2024-01-27T07:43:06.520276Z"
    },
    "papermill": {
     "duration": 0.454836,
     "end_time": "2024-01-27T07:43:06.524965",
     "exception": false,
     "start_time": "2024-01-27T07:43:06.070129",
     "status": "completed"
    },
    "tags": []
   },
   "outputs": [
    {
     "name": "stdout",
     "output_type": "stream",
     "text": [
      "/kaggle/input/iyzico-datathon/sample_submission.csv\n",
      "/kaggle/input/iyzico-datathon/train.csv\n"
     ]
    }
   ],
   "source": [
    "# This Python 3 environment comes with many helpful analytics libraries installed\n",
    "# It is defined by the kaggle/python Docker image: https://github.com/kaggle/docker-python\n",
    "# For example, here's several helpful packages to load\n",
    "\n",
    "import numpy as np # linear algebra\n",
    "import pandas as pd # data processing, CSV file I/O (e.g. pd.read_csv)\n",
    "\n",
    "# Input data files are available in the read-only \"../input/\" directory\n",
    "# For example, running this (by clicking run or pressing Shift+Enter) will list all files under the input directory\n",
    "\n",
    "import os\n",
    "for dirname, _, filenames in os.walk('/kaggle/input'):\n",
    "    for filename in filenames:\n",
    "        print(os.path.join(dirname, filename))\n",
    "\n",
    "# You can write up to 20GB to the current directory (/kaggle/working/) that gets preserved as output when you create a version using \"Save & Run All\" \n",
    "# You can also write temporary files to /kaggle/temp/, but they won't be saved outside of the current session"
   ]
  },
  {
   "cell_type": "code",
   "execution_count": 2,
   "id": "d6d8bde1",
   "metadata": {
    "execution": {
     "iopub.execute_input": "2024-01-27T07:43:06.531145Z",
     "iopub.status.busy": "2024-01-27T07:43:06.530614Z",
     "iopub.status.idle": "2024-01-27T07:43:06.536050Z",
     "shell.execute_reply": "2024-01-27T07:43:06.534952Z"
    },
    "papermill": {
     "duration": 0.010923,
     "end_time": "2024-01-27T07:43:06.538293",
     "exception": false,
     "start_time": "2024-01-27T07:43:06.527370",
     "status": "completed"
    },
    "tags": []
   },
   "outputs": [],
   "source": [
    "# TODO: Specify Q3 as the testing data for model evaluation and Q1 & Q2 as training data\n",
    "# TODO: Target data does not contain features like merchant source, therefore those features should be inspected to see if they can be imputated or if they are useful at all for the forecasting\n",
    "# TODO: Carry on an EDA to help to interpret some features by exploring their relations (e.g. relation between merchant_id and mcc_id, determine if they can point to something when inspected together as groups)\n",
    "# TODO: Make use of external data sources like exchange rates, holidays, or paydays\n",
    "# TODO: Clean data, deal with missing values, one-hot encode or drop features if necessary, apply pre-processing like normalization and format the data for training\n",
    "# TODO: Build an RNN and train it to make predictions (time series forecasting)\n",
    "# TODO: Visualize model performance according to MAE with examples\n",
    "# TODO: Train the model with the whole data and submit predictions for the target data (Q4) in the right format\n",
    "# TODO: Also try a rather simple solution such as moving average or spline extrapolation and compare results"
   ]
  }
 ],
 "metadata": {
  "kaggle": {
   "accelerator": "none",
   "dataSources": [
    {
     "databundleVersionId": 7547755,
     "sourceId": 67726,
     "sourceType": "competition"
    }
   ],
   "isGpuEnabled": false,
   "isInternetEnabled": true,
   "language": "python",
   "sourceType": "notebook"
  },
  "kernelspec": {
   "display_name": "Python 3",
   "language": "python",
   "name": "python3"
  },
  "language_info": {
   "codemirror_mode": {
    "name": "ipython",
    "version": 3
   },
   "file_extension": ".py",
   "mimetype": "text/x-python",
   "name": "python",
   "nbconvert_exporter": "python",
   "pygments_lexer": "ipython3",
   "version": "3.10.12"
  },
  "papermill": {
   "default_parameters": {},
   "duration": 4.474958,
   "end_time": "2024-01-27T07:43:07.060953",
   "environment_variables": {},
   "exception": null,
   "input_path": "__notebook__.ipynb",
   "output_path": "__notebook__.ipynb",
   "parameters": {},
   "start_time": "2024-01-27T07:43:02.585995",
   "version": "2.4.0"
  }
 },
 "nbformat": 4,
 "nbformat_minor": 5
}
